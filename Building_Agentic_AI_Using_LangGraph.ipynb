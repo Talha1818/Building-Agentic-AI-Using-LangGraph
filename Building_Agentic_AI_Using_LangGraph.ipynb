{
  "nbformat": 4,
  "nbformat_minor": 0,
  "metadata": {
    "colab": {
      "provenance": [],
      "authorship_tag": "ABX9TyO+DkvagwRaVRuRbYX9ZKGr",
      "include_colab_link": true
    },
    "kernelspec": {
      "name": "python3",
      "display_name": "Python 3"
    },
    "language_info": {
      "name": "python"
    }
  },
  "cells": [
    {
      "cell_type": "markdown",
      "metadata": {
        "id": "view-in-github",
        "colab_type": "text"
      },
      "source": [
        "<a href=\"https://colab.research.google.com/github/Talha1818/Building-Agentic-AI-Using-LangGraph/blob/master/Building_Agentic_AI_Using_LangGraph.ipynb\" target=\"_parent\"><img src=\"https://colab.research.google.com/assets/colab-badge.svg\" alt=\"Open In Colab\"/></a>"
      ]
    },
    {
      "cell_type": "markdown",
      "source": [
        "# **LangGraph**\n",
        "  * ### LangGraph is a library for building stateful, multi-actor applications with LLMs, used to create agent and multi-agent workflows. Compared to other LLM frameworks, it offers these core benefits: cycles, controllability, and persistence. LangGraph allows you to define flows that involve cycles, essential for most agentic architectures, differentiating it from DAG-based solutions. As a very low-level framework, it provides fine-grained control over both the flow and state of your application, crucial for creating reliable agents. Additionally, LangGraph includes built-in persistence, enabling advanced human-in-the-loop and memory features."
      ],
      "metadata": {
        "id": "vGm6pFNhYnR9"
      }
    },
    {
      "cell_type": "code",
      "execution_count": 33,
      "metadata": {
        "id": "1ddQ-oO9lC5n"
      },
      "outputs": [],
      "source": [
        "!pip install -qU langgraph langchain langchain_community langchainhub langchain_groq wikipedia"
      ]
    },
    {
      "cell_type": "code",
      "source": [
        "from langgraph.graph import Graph"
      ],
      "metadata": {
        "id": "o-11WiH-lytq"
      },
      "execution_count": null,
      "outputs": []
    },
    {
      "cell_type": "code",
      "source": [
        "from langchain_groq import ChatGroq"
      ],
      "metadata": {
        "id": "S-oZc8oNm7yM"
      },
      "execution_count": null,
      "outputs": []
    },
    {
      "cell_type": "code",
      "source": [
        "import requests\n",
        "import os\n",
        "from google.colab import userdata\n",
        "\n",
        "api_key = userdata.get('GROQ_API_KEY')\n",
        "url = \"https://api.groq.com/openai/v1/models\"\n",
        "\n",
        "headers = {\n",
        "    \"Authorization\": f\"Bearer {api_key}\",\n",
        "    \"Content-Type\": \"application/json\"\n",
        "}\n",
        "\n",
        "response = requests.get(url, headers=headers)\n",
        "\n",
        "print(response.json())"
      ],
      "metadata": {
        "colab": {
          "base_uri": "https://localhost:8080/"
        },
        "id": "hWRBiAhxoHbh",
        "outputId": "0a8a6601-e73b-4cb3-e575-eb9dcf73f2fc"
      },
      "execution_count": 15,
      "outputs": [
        {
          "output_type": "stream",
          "name": "stdout",
          "text": [
            "{'object': 'list', 'data': [{'id': 'whisper-large-v3-turbo', 'object': 'model', 'created': 1728413088, 'owned_by': 'OpenAI', 'active': True, 'context_window': 448, 'public_apps': None}, {'id': 'llama-3.1-70b-versatile', 'object': 'model', 'created': 1693721698, 'owned_by': 'Meta', 'active': True, 'context_window': 32768, 'public_apps': None}, {'id': 'llama3-groq-8b-8192-tool-use-preview', 'object': 'model', 'created': 1693721698, 'owned_by': 'Groq', 'active': True, 'context_window': 8192, 'public_apps': None}, {'id': 'llama3-groq-70b-8192-tool-use-preview', 'object': 'model', 'created': 1693721698, 'owned_by': 'Groq', 'active': True, 'context_window': 8192, 'public_apps': None}, {'id': 'llama-3.2-90b-vision-preview', 'object': 'model', 'created': 1727226914, 'owned_by': 'Meta', 'active': True, 'context_window': 8192, 'public_apps': None}, {'id': 'llama-3.1-8b-instant', 'object': 'model', 'created': 1693721698, 'owned_by': 'Meta', 'active': True, 'context_window': 131072, 'public_apps': None}, {'id': 'llama-guard-3-8b', 'object': 'model', 'created': 1693721698, 'owned_by': 'Meta', 'active': True, 'context_window': 8192, 'public_apps': None}, {'id': 'llama-3.3-70b-versatile', 'object': 'model', 'created': 1733447754, 'owned_by': 'Meta', 'active': True, 'context_window': 32768, 'public_apps': None}, {'id': 'llama-3.3-70b-specdec', 'object': 'model', 'created': 1733505017, 'owned_by': 'Meta', 'active': True, 'context_window': 8192, 'public_apps': None}, {'id': 'whisper-large-v3', 'object': 'model', 'created': 1693721698, 'owned_by': 'OpenAI', 'active': True, 'context_window': 448, 'public_apps': None}, {'id': 'mixtral-8x7b-32768', 'object': 'model', 'created': 1693721698, 'owned_by': 'Mistral AI', 'active': True, 'context_window': 32768, 'public_apps': None}, {'id': 'llama-3.2-3b-preview', 'object': 'model', 'created': 1727224290, 'owned_by': 'Meta', 'active': True, 'context_window': 8192, 'public_apps': None}, {'id': 'llama3-8b-8192', 'object': 'model', 'created': 1693721698, 'owned_by': 'Meta', 'active': True, 'context_window': 8192, 'public_apps': None}, {'id': 'distil-whisper-large-v3-en', 'object': 'model', 'created': 1693721698, 'owned_by': 'Hugging Face', 'active': True, 'context_window': 448, 'public_apps': None}, {'id': 'llama3-70b-8192', 'object': 'model', 'created': 1693721698, 'owned_by': 'Meta', 'active': True, 'context_window': 8192, 'public_apps': None}, {'id': 'llama-3.2-1b-preview', 'object': 'model', 'created': 1727224268, 'owned_by': 'Meta', 'active': True, 'context_window': 8192, 'public_apps': None}, {'id': 'gemma2-9b-it', 'object': 'model', 'created': 1693721698, 'owned_by': 'Google', 'active': True, 'context_window': 8192, 'public_apps': None}, {'id': 'llama-3.2-11b-vision-preview', 'object': 'model', 'created': 1727226869, 'owned_by': 'Meta', 'active': True, 'context_window': 8192, 'public_apps': None}]}\n"
          ]
        }
      ]
    },
    {
      "cell_type": "code",
      "source": [
        "import pandas as pd\n",
        "\n",
        "df = pd.DataFrame(response.json()['data'])\n",
        "df"
      ],
      "metadata": {
        "id": "RSjK9XDBoSg0",
        "colab": {
          "base_uri": "https://localhost:8080/",
          "height": 613
        },
        "outputId": "b0e2799e-9cab-449c-8977-d3390aa547e1"
      },
      "execution_count": 17,
      "outputs": [
        {
          "output_type": "execute_result",
          "data": {
            "text/plain": [
              "                                       id object     created      owned_by  \\\n",
              "0                  whisper-large-v3-turbo  model  1728413088        OpenAI   \n",
              "1                 llama-3.1-70b-versatile  model  1693721698          Meta   \n",
              "2    llama3-groq-8b-8192-tool-use-preview  model  1693721698          Groq   \n",
              "3   llama3-groq-70b-8192-tool-use-preview  model  1693721698          Groq   \n",
              "4            llama-3.2-90b-vision-preview  model  1727226914          Meta   \n",
              "5                    llama-3.1-8b-instant  model  1693721698          Meta   \n",
              "6                        llama-guard-3-8b  model  1693721698          Meta   \n",
              "7                 llama-3.3-70b-versatile  model  1733447754          Meta   \n",
              "8                   llama-3.3-70b-specdec  model  1733505017          Meta   \n",
              "9                        whisper-large-v3  model  1693721698        OpenAI   \n",
              "10                     mixtral-8x7b-32768  model  1693721698    Mistral AI   \n",
              "11                   llama-3.2-3b-preview  model  1727224290          Meta   \n",
              "12                         llama3-8b-8192  model  1693721698          Meta   \n",
              "13             distil-whisper-large-v3-en  model  1693721698  Hugging Face   \n",
              "14                        llama3-70b-8192  model  1693721698          Meta   \n",
              "15                   llama-3.2-1b-preview  model  1727224268          Meta   \n",
              "16                           gemma2-9b-it  model  1693721698        Google   \n",
              "17           llama-3.2-11b-vision-preview  model  1727226869          Meta   \n",
              "\n",
              "    active  context_window public_apps  \n",
              "0     True             448        None  \n",
              "1     True           32768        None  \n",
              "2     True            8192        None  \n",
              "3     True            8192        None  \n",
              "4     True            8192        None  \n",
              "5     True          131072        None  \n",
              "6     True            8192        None  \n",
              "7     True           32768        None  \n",
              "8     True            8192        None  \n",
              "9     True             448        None  \n",
              "10    True           32768        None  \n",
              "11    True            8192        None  \n",
              "12    True            8192        None  \n",
              "13    True             448        None  \n",
              "14    True            8192        None  \n",
              "15    True            8192        None  \n",
              "16    True            8192        None  \n",
              "17    True            8192        None  "
            ],
            "text/html": [
              "\n",
              "  <div id=\"df-636bc5ae-a25b-4ff4-8e78-0757f1fd9798\" class=\"colab-df-container\">\n",
              "    <div>\n",
              "<style scoped>\n",
              "    .dataframe tbody tr th:only-of-type {\n",
              "        vertical-align: middle;\n",
              "    }\n",
              "\n",
              "    .dataframe tbody tr th {\n",
              "        vertical-align: top;\n",
              "    }\n",
              "\n",
              "    .dataframe thead th {\n",
              "        text-align: right;\n",
              "    }\n",
              "</style>\n",
              "<table border=\"1\" class=\"dataframe\">\n",
              "  <thead>\n",
              "    <tr style=\"text-align: right;\">\n",
              "      <th></th>\n",
              "      <th>id</th>\n",
              "      <th>object</th>\n",
              "      <th>created</th>\n",
              "      <th>owned_by</th>\n",
              "      <th>active</th>\n",
              "      <th>context_window</th>\n",
              "      <th>public_apps</th>\n",
              "    </tr>\n",
              "  </thead>\n",
              "  <tbody>\n",
              "    <tr>\n",
              "      <th>0</th>\n",
              "      <td>whisper-large-v3-turbo</td>\n",
              "      <td>model</td>\n",
              "      <td>1728413088</td>\n",
              "      <td>OpenAI</td>\n",
              "      <td>True</td>\n",
              "      <td>448</td>\n",
              "      <td>None</td>\n",
              "    </tr>\n",
              "    <tr>\n",
              "      <th>1</th>\n",
              "      <td>llama-3.1-70b-versatile</td>\n",
              "      <td>model</td>\n",
              "      <td>1693721698</td>\n",
              "      <td>Meta</td>\n",
              "      <td>True</td>\n",
              "      <td>32768</td>\n",
              "      <td>None</td>\n",
              "    </tr>\n",
              "    <tr>\n",
              "      <th>2</th>\n",
              "      <td>llama3-groq-8b-8192-tool-use-preview</td>\n",
              "      <td>model</td>\n",
              "      <td>1693721698</td>\n",
              "      <td>Groq</td>\n",
              "      <td>True</td>\n",
              "      <td>8192</td>\n",
              "      <td>None</td>\n",
              "    </tr>\n",
              "    <tr>\n",
              "      <th>3</th>\n",
              "      <td>llama3-groq-70b-8192-tool-use-preview</td>\n",
              "      <td>model</td>\n",
              "      <td>1693721698</td>\n",
              "      <td>Groq</td>\n",
              "      <td>True</td>\n",
              "      <td>8192</td>\n",
              "      <td>None</td>\n",
              "    </tr>\n",
              "    <tr>\n",
              "      <th>4</th>\n",
              "      <td>llama-3.2-90b-vision-preview</td>\n",
              "      <td>model</td>\n",
              "      <td>1727226914</td>\n",
              "      <td>Meta</td>\n",
              "      <td>True</td>\n",
              "      <td>8192</td>\n",
              "      <td>None</td>\n",
              "    </tr>\n",
              "    <tr>\n",
              "      <th>5</th>\n",
              "      <td>llama-3.1-8b-instant</td>\n",
              "      <td>model</td>\n",
              "      <td>1693721698</td>\n",
              "      <td>Meta</td>\n",
              "      <td>True</td>\n",
              "      <td>131072</td>\n",
              "      <td>None</td>\n",
              "    </tr>\n",
              "    <tr>\n",
              "      <th>6</th>\n",
              "      <td>llama-guard-3-8b</td>\n",
              "      <td>model</td>\n",
              "      <td>1693721698</td>\n",
              "      <td>Meta</td>\n",
              "      <td>True</td>\n",
              "      <td>8192</td>\n",
              "      <td>None</td>\n",
              "    </tr>\n",
              "    <tr>\n",
              "      <th>7</th>\n",
              "      <td>llama-3.3-70b-versatile</td>\n",
              "      <td>model</td>\n",
              "      <td>1733447754</td>\n",
              "      <td>Meta</td>\n",
              "      <td>True</td>\n",
              "      <td>32768</td>\n",
              "      <td>None</td>\n",
              "    </tr>\n",
              "    <tr>\n",
              "      <th>8</th>\n",
              "      <td>llama-3.3-70b-specdec</td>\n",
              "      <td>model</td>\n",
              "      <td>1733505017</td>\n",
              "      <td>Meta</td>\n",
              "      <td>True</td>\n",
              "      <td>8192</td>\n",
              "      <td>None</td>\n",
              "    </tr>\n",
              "    <tr>\n",
              "      <th>9</th>\n",
              "      <td>whisper-large-v3</td>\n",
              "      <td>model</td>\n",
              "      <td>1693721698</td>\n",
              "      <td>OpenAI</td>\n",
              "      <td>True</td>\n",
              "      <td>448</td>\n",
              "      <td>None</td>\n",
              "    </tr>\n",
              "    <tr>\n",
              "      <th>10</th>\n",
              "      <td>mixtral-8x7b-32768</td>\n",
              "      <td>model</td>\n",
              "      <td>1693721698</td>\n",
              "      <td>Mistral AI</td>\n",
              "      <td>True</td>\n",
              "      <td>32768</td>\n",
              "      <td>None</td>\n",
              "    </tr>\n",
              "    <tr>\n",
              "      <th>11</th>\n",
              "      <td>llama-3.2-3b-preview</td>\n",
              "      <td>model</td>\n",
              "      <td>1727224290</td>\n",
              "      <td>Meta</td>\n",
              "      <td>True</td>\n",
              "      <td>8192</td>\n",
              "      <td>None</td>\n",
              "    </tr>\n",
              "    <tr>\n",
              "      <th>12</th>\n",
              "      <td>llama3-8b-8192</td>\n",
              "      <td>model</td>\n",
              "      <td>1693721698</td>\n",
              "      <td>Meta</td>\n",
              "      <td>True</td>\n",
              "      <td>8192</td>\n",
              "      <td>None</td>\n",
              "    </tr>\n",
              "    <tr>\n",
              "      <th>13</th>\n",
              "      <td>distil-whisper-large-v3-en</td>\n",
              "      <td>model</td>\n",
              "      <td>1693721698</td>\n",
              "      <td>Hugging Face</td>\n",
              "      <td>True</td>\n",
              "      <td>448</td>\n",
              "      <td>None</td>\n",
              "    </tr>\n",
              "    <tr>\n",
              "      <th>14</th>\n",
              "      <td>llama3-70b-8192</td>\n",
              "      <td>model</td>\n",
              "      <td>1693721698</td>\n",
              "      <td>Meta</td>\n",
              "      <td>True</td>\n",
              "      <td>8192</td>\n",
              "      <td>None</td>\n",
              "    </tr>\n",
              "    <tr>\n",
              "      <th>15</th>\n",
              "      <td>llama-3.2-1b-preview</td>\n",
              "      <td>model</td>\n",
              "      <td>1727224268</td>\n",
              "      <td>Meta</td>\n",
              "      <td>True</td>\n",
              "      <td>8192</td>\n",
              "      <td>None</td>\n",
              "    </tr>\n",
              "    <tr>\n",
              "      <th>16</th>\n",
              "      <td>gemma2-9b-it</td>\n",
              "      <td>model</td>\n",
              "      <td>1693721698</td>\n",
              "      <td>Google</td>\n",
              "      <td>True</td>\n",
              "      <td>8192</td>\n",
              "      <td>None</td>\n",
              "    </tr>\n",
              "    <tr>\n",
              "      <th>17</th>\n",
              "      <td>llama-3.2-11b-vision-preview</td>\n",
              "      <td>model</td>\n",
              "      <td>1727226869</td>\n",
              "      <td>Meta</td>\n",
              "      <td>True</td>\n",
              "      <td>8192</td>\n",
              "      <td>None</td>\n",
              "    </tr>\n",
              "  </tbody>\n",
              "</table>\n",
              "</div>\n",
              "    <div class=\"colab-df-buttons\">\n",
              "\n",
              "  <div class=\"colab-df-container\">\n",
              "    <button class=\"colab-df-convert\" onclick=\"convertToInteractive('df-636bc5ae-a25b-4ff4-8e78-0757f1fd9798')\"\n",
              "            title=\"Convert this dataframe to an interactive table.\"\n",
              "            style=\"display:none;\">\n",
              "\n",
              "  <svg xmlns=\"http://www.w3.org/2000/svg\" height=\"24px\" viewBox=\"0 -960 960 960\">\n",
              "    <path d=\"M120-120v-720h720v720H120Zm60-500h600v-160H180v160Zm220 220h160v-160H400v160Zm0 220h160v-160H400v160ZM180-400h160v-160H180v160Zm440 0h160v-160H620v160ZM180-180h160v-160H180v160Zm440 0h160v-160H620v160Z\"/>\n",
              "  </svg>\n",
              "    </button>\n",
              "\n",
              "  <style>\n",
              "    .colab-df-container {\n",
              "      display:flex;\n",
              "      gap: 12px;\n",
              "    }\n",
              "\n",
              "    .colab-df-convert {\n",
              "      background-color: #E8F0FE;\n",
              "      border: none;\n",
              "      border-radius: 50%;\n",
              "      cursor: pointer;\n",
              "      display: none;\n",
              "      fill: #1967D2;\n",
              "      height: 32px;\n",
              "      padding: 0 0 0 0;\n",
              "      width: 32px;\n",
              "    }\n",
              "\n",
              "    .colab-df-convert:hover {\n",
              "      background-color: #E2EBFA;\n",
              "      box-shadow: 0px 1px 2px rgba(60, 64, 67, 0.3), 0px 1px 3px 1px rgba(60, 64, 67, 0.15);\n",
              "      fill: #174EA6;\n",
              "    }\n",
              "\n",
              "    .colab-df-buttons div {\n",
              "      margin-bottom: 4px;\n",
              "    }\n",
              "\n",
              "    [theme=dark] .colab-df-convert {\n",
              "      background-color: #3B4455;\n",
              "      fill: #D2E3FC;\n",
              "    }\n",
              "\n",
              "    [theme=dark] .colab-df-convert:hover {\n",
              "      background-color: #434B5C;\n",
              "      box-shadow: 0px 1px 3px 1px rgba(0, 0, 0, 0.15);\n",
              "      filter: drop-shadow(0px 1px 2px rgba(0, 0, 0, 0.3));\n",
              "      fill: #FFFFFF;\n",
              "    }\n",
              "  </style>\n",
              "\n",
              "    <script>\n",
              "      const buttonEl =\n",
              "        document.querySelector('#df-636bc5ae-a25b-4ff4-8e78-0757f1fd9798 button.colab-df-convert');\n",
              "      buttonEl.style.display =\n",
              "        google.colab.kernel.accessAllowed ? 'block' : 'none';\n",
              "\n",
              "      async function convertToInteractive(key) {\n",
              "        const element = document.querySelector('#df-636bc5ae-a25b-4ff4-8e78-0757f1fd9798');\n",
              "        const dataTable =\n",
              "          await google.colab.kernel.invokeFunction('convertToInteractive',\n",
              "                                                    [key], {});\n",
              "        if (!dataTable) return;\n",
              "\n",
              "        const docLinkHtml = 'Like what you see? Visit the ' +\n",
              "          '<a target=\"_blank\" href=https://colab.research.google.com/notebooks/data_table.ipynb>data table notebook</a>'\n",
              "          + ' to learn more about interactive tables.';\n",
              "        element.innerHTML = '';\n",
              "        dataTable['output_type'] = 'display_data';\n",
              "        await google.colab.output.renderOutput(dataTable, element);\n",
              "        const docLink = document.createElement('div');\n",
              "        docLink.innerHTML = docLinkHtml;\n",
              "        element.appendChild(docLink);\n",
              "      }\n",
              "    </script>\n",
              "  </div>\n",
              "\n",
              "\n",
              "<div id=\"df-4622664a-3acd-41a7-ad7d-4d0276b29266\">\n",
              "  <button class=\"colab-df-quickchart\" onclick=\"quickchart('df-4622664a-3acd-41a7-ad7d-4d0276b29266')\"\n",
              "            title=\"Suggest charts\"\n",
              "            style=\"display:none;\">\n",
              "\n",
              "<svg xmlns=\"http://www.w3.org/2000/svg\" height=\"24px\"viewBox=\"0 0 24 24\"\n",
              "     width=\"24px\">\n",
              "    <g>\n",
              "        <path d=\"M19 3H5c-1.1 0-2 .9-2 2v14c0 1.1.9 2 2 2h14c1.1 0 2-.9 2-2V5c0-1.1-.9-2-2-2zM9 17H7v-7h2v7zm4 0h-2V7h2v10zm4 0h-2v-4h2v4z\"/>\n",
              "    </g>\n",
              "</svg>\n",
              "  </button>\n",
              "\n",
              "<style>\n",
              "  .colab-df-quickchart {\n",
              "      --bg-color: #E8F0FE;\n",
              "      --fill-color: #1967D2;\n",
              "      --hover-bg-color: #E2EBFA;\n",
              "      --hover-fill-color: #174EA6;\n",
              "      --disabled-fill-color: #AAA;\n",
              "      --disabled-bg-color: #DDD;\n",
              "  }\n",
              "\n",
              "  [theme=dark] .colab-df-quickchart {\n",
              "      --bg-color: #3B4455;\n",
              "      --fill-color: #D2E3FC;\n",
              "      --hover-bg-color: #434B5C;\n",
              "      --hover-fill-color: #FFFFFF;\n",
              "      --disabled-bg-color: #3B4455;\n",
              "      --disabled-fill-color: #666;\n",
              "  }\n",
              "\n",
              "  .colab-df-quickchart {\n",
              "    background-color: var(--bg-color);\n",
              "    border: none;\n",
              "    border-radius: 50%;\n",
              "    cursor: pointer;\n",
              "    display: none;\n",
              "    fill: var(--fill-color);\n",
              "    height: 32px;\n",
              "    padding: 0;\n",
              "    width: 32px;\n",
              "  }\n",
              "\n",
              "  .colab-df-quickchart:hover {\n",
              "    background-color: var(--hover-bg-color);\n",
              "    box-shadow: 0 1px 2px rgba(60, 64, 67, 0.3), 0 1px 3px 1px rgba(60, 64, 67, 0.15);\n",
              "    fill: var(--button-hover-fill-color);\n",
              "  }\n",
              "\n",
              "  .colab-df-quickchart-complete:disabled,\n",
              "  .colab-df-quickchart-complete:disabled:hover {\n",
              "    background-color: var(--disabled-bg-color);\n",
              "    fill: var(--disabled-fill-color);\n",
              "    box-shadow: none;\n",
              "  }\n",
              "\n",
              "  .colab-df-spinner {\n",
              "    border: 2px solid var(--fill-color);\n",
              "    border-color: transparent;\n",
              "    border-bottom-color: var(--fill-color);\n",
              "    animation:\n",
              "      spin 1s steps(1) infinite;\n",
              "  }\n",
              "\n",
              "  @keyframes spin {\n",
              "    0% {\n",
              "      border-color: transparent;\n",
              "      border-bottom-color: var(--fill-color);\n",
              "      border-left-color: var(--fill-color);\n",
              "    }\n",
              "    20% {\n",
              "      border-color: transparent;\n",
              "      border-left-color: var(--fill-color);\n",
              "      border-top-color: var(--fill-color);\n",
              "    }\n",
              "    30% {\n",
              "      border-color: transparent;\n",
              "      border-left-color: var(--fill-color);\n",
              "      border-top-color: var(--fill-color);\n",
              "      border-right-color: var(--fill-color);\n",
              "    }\n",
              "    40% {\n",
              "      border-color: transparent;\n",
              "      border-right-color: var(--fill-color);\n",
              "      border-top-color: var(--fill-color);\n",
              "    }\n",
              "    60% {\n",
              "      border-color: transparent;\n",
              "      border-right-color: var(--fill-color);\n",
              "    }\n",
              "    80% {\n",
              "      border-color: transparent;\n",
              "      border-right-color: var(--fill-color);\n",
              "      border-bottom-color: var(--fill-color);\n",
              "    }\n",
              "    90% {\n",
              "      border-color: transparent;\n",
              "      border-bottom-color: var(--fill-color);\n",
              "    }\n",
              "  }\n",
              "</style>\n",
              "\n",
              "  <script>\n",
              "    async function quickchart(key) {\n",
              "      const quickchartButtonEl =\n",
              "        document.querySelector('#' + key + ' button');\n",
              "      quickchartButtonEl.disabled = true;  // To prevent multiple clicks.\n",
              "      quickchartButtonEl.classList.add('colab-df-spinner');\n",
              "      try {\n",
              "        const charts = await google.colab.kernel.invokeFunction(\n",
              "            'suggestCharts', [key], {});\n",
              "      } catch (error) {\n",
              "        console.error('Error during call to suggestCharts:', error);\n",
              "      }\n",
              "      quickchartButtonEl.classList.remove('colab-df-spinner');\n",
              "      quickchartButtonEl.classList.add('colab-df-quickchart-complete');\n",
              "    }\n",
              "    (() => {\n",
              "      let quickchartButtonEl =\n",
              "        document.querySelector('#df-4622664a-3acd-41a7-ad7d-4d0276b29266 button');\n",
              "      quickchartButtonEl.style.display =\n",
              "        google.colab.kernel.accessAllowed ? 'block' : 'none';\n",
              "    })();\n",
              "  </script>\n",
              "</div>\n",
              "\n",
              "  <div id=\"id_3dfa055e-d19b-4fd8-8226-74f257ad51db\">\n",
              "    <style>\n",
              "      .colab-df-generate {\n",
              "        background-color: #E8F0FE;\n",
              "        border: none;\n",
              "        border-radius: 50%;\n",
              "        cursor: pointer;\n",
              "        display: none;\n",
              "        fill: #1967D2;\n",
              "        height: 32px;\n",
              "        padding: 0 0 0 0;\n",
              "        width: 32px;\n",
              "      }\n",
              "\n",
              "      .colab-df-generate:hover {\n",
              "        background-color: #E2EBFA;\n",
              "        box-shadow: 0px 1px 2px rgba(60, 64, 67, 0.3), 0px 1px 3px 1px rgba(60, 64, 67, 0.15);\n",
              "        fill: #174EA6;\n",
              "      }\n",
              "\n",
              "      [theme=dark] .colab-df-generate {\n",
              "        background-color: #3B4455;\n",
              "        fill: #D2E3FC;\n",
              "      }\n",
              "\n",
              "      [theme=dark] .colab-df-generate:hover {\n",
              "        background-color: #434B5C;\n",
              "        box-shadow: 0px 1px 3px 1px rgba(0, 0, 0, 0.15);\n",
              "        filter: drop-shadow(0px 1px 2px rgba(0, 0, 0, 0.3));\n",
              "        fill: #FFFFFF;\n",
              "      }\n",
              "    </style>\n",
              "    <button class=\"colab-df-generate\" onclick=\"generateWithVariable('df')\"\n",
              "            title=\"Generate code using this dataframe.\"\n",
              "            style=\"display:none;\">\n",
              "\n",
              "  <svg xmlns=\"http://www.w3.org/2000/svg\" height=\"24px\"viewBox=\"0 0 24 24\"\n",
              "       width=\"24px\">\n",
              "    <path d=\"M7,19H8.4L18.45,9,17,7.55,7,17.6ZM5,21V16.75L18.45,3.32a2,2,0,0,1,2.83,0l1.4,1.43a1.91,1.91,0,0,1,.58,1.4,1.91,1.91,0,0,1-.58,1.4L9.25,21ZM18.45,9,17,7.55Zm-12,3A5.31,5.31,0,0,0,4.9,8.1,5.31,5.31,0,0,0,1,6.5,5.31,5.31,0,0,0,4.9,4.9,5.31,5.31,0,0,0,6.5,1,5.31,5.31,0,0,0,8.1,4.9,5.31,5.31,0,0,0,12,6.5,5.46,5.46,0,0,0,6.5,12Z\"/>\n",
              "  </svg>\n",
              "    </button>\n",
              "    <script>\n",
              "      (() => {\n",
              "      const buttonEl =\n",
              "        document.querySelector('#id_3dfa055e-d19b-4fd8-8226-74f257ad51db button.colab-df-generate');\n",
              "      buttonEl.style.display =\n",
              "        google.colab.kernel.accessAllowed ? 'block' : 'none';\n",
              "\n",
              "      buttonEl.onclick = () => {\n",
              "        google.colab.notebook.generateWithVariable('df');\n",
              "      }\n",
              "      })();\n",
              "    </script>\n",
              "  </div>\n",
              "\n",
              "    </div>\n",
              "  </div>\n"
            ],
            "application/vnd.google.colaboratory.intrinsic+json": {
              "type": "dataframe",
              "variable_name": "df",
              "repr_error": "Out of range float values are not JSON compliant: nan"
            }
          },
          "metadata": {},
          "execution_count": 17
        }
      ]
    },
    {
      "cell_type": "code",
      "source": [
        "llm = ChatGroq(model=\"llama3-70b-8192\", api_key=api_key)\n",
        "llm"
      ],
      "metadata": {
        "colab": {
          "base_uri": "https://localhost:8080/"
        },
        "id": "_bKnepjeo7Xt",
        "outputId": "7b351f38-a977-40a0-ead3-ddef2e51d390"
      },
      "execution_count": 20,
      "outputs": [
        {
          "output_type": "execute_result",
          "data": {
            "text/plain": [
              "ChatGroq(client=<groq.resources.chat.completions.Completions object at 0x7ea9982ba290>, async_client=<groq.resources.chat.completions.AsyncCompletions object at 0x7ea9982b8340>, model_name='llama3-70b-8192', model_kwargs={}, groq_api_key=SecretStr('**********'))"
            ]
          },
          "metadata": {},
          "execution_count": 20
        }
      ]
    },
    {
      "cell_type": "code",
      "source": [
        "res = llm.invoke(\"What is the capital of Pakistan?\")\n",
        "res"
      ],
      "metadata": {
        "colab": {
          "base_uri": "https://localhost:8080/"
        },
        "id": "LHjR_Cfcp6SD",
        "outputId": "ae0d6219-5dc8-48b5-9817-2b3ff91bd54b"
      },
      "execution_count": 25,
      "outputs": [
        {
          "output_type": "execute_result",
          "data": {
            "text/plain": [
              "AIMessage(content='The capital of Pakistan is Islamabad.', additional_kwargs={}, response_metadata={'token_usage': {'completion_tokens': 8, 'prompt_tokens': 17, 'total_tokens': 25, 'completion_time': 0.024635884, 'prompt_time': 0.003609355, 'queue_time': 0.016652192000000003, 'total_time': 0.028245239}, 'model_name': 'llama3-70b-8192', 'system_fingerprint': 'fp_2f30b0b571', 'finish_reason': 'stop', 'logprobs': None}, id='run-3d29c368-0bc2-4609-ba96-4299739bc664-0', usage_metadata={'input_tokens': 17, 'output_tokens': 8, 'total_tokens': 25})"
            ]
          },
          "metadata": {},
          "execution_count": 25
        }
      ]
    },
    {
      "cell_type": "code",
      "source": [
        "res.content"
      ],
      "metadata": {
        "colab": {
          "base_uri": "https://localhost:8080/",
          "height": 36
        },
        "id": "JpXSBqyqqGAh",
        "outputId": "bca2b5ce-507c-4312-e63d-1925894f92d9"
      },
      "execution_count": 26,
      "outputs": [
        {
          "output_type": "execute_result",
          "data": {
            "text/plain": [
              "'The capital of Pakistan is Islamabad.'"
            ],
            "application/vnd.google.colaboratory.intrinsic+json": {
              "type": "string"
            }
          },
          "metadata": {},
          "execution_count": 26
        }
      ]
    },
    {
      "cell_type": "code",
      "source": [
        "def llm_response(query):\n",
        "  llm = ChatGroq(model=\"llama3-70b-8192\", api_key=api_key)\n",
        "  return llm.invoke(query).content"
      ],
      "metadata": {
        "id": "IHjqsIG8qKJ6"
      },
      "execution_count": 27,
      "outputs": []
    },
    {
      "cell_type": "code",
      "source": [
        "llm_response(\"Who is the Prime Minister of Pakistan?\")"
      ],
      "metadata": {
        "colab": {
          "base_uri": "https://localhost:8080/",
          "height": 72
        },
        "id": "VZa_9zqOqtUL",
        "outputId": "4fcf134b-3527-4c9f-da0d-7964bdbc0501"
      },
      "execution_count": 29,
      "outputs": [
        {
          "output_type": "execute_result",
          "data": {
            "text/plain": [
              "'As of my knowledge cutoff in December 2022, the Prime Minister of Pakistan is Shehbaz Sharif. However, please note that the political landscape in Pakistan can be dynamic, and there may have been changes since my knowledge cutoff. I would recommend checking with a reliable news source or official government website for the most up-to-date information on the current Prime Minister of Pakistan.'"
            ],
            "application/vnd.google.colaboratory.intrinsic+json": {
              "type": "string"
            }
          },
          "metadata": {},
          "execution_count": 29
        }
      ]
    },
    {
      "cell_type": "markdown",
      "source": [
        "### https://python.langchain.com/docs/integrations/tools/"
      ],
      "metadata": {
        "id": "1rojDUD0vH5f"
      }
    },
    {
      "cell_type": "code",
      "source": [
        "from langchain.agents import AgentType, initialize_agent, load_tools"
      ],
      "metadata": {
        "id": "9yz00dIlqz-M"
      },
      "execution_count": 30,
      "outputs": []
    },
    {
      "cell_type": "code",
      "source": [
        "from langchain.agents import get_all_tool_names\n",
        "\n",
        "# List all available tools\n",
        "all_tool_names = get_all_tool_names()\n",
        "print(\"Available Tools:\")\n",
        "for tool_name in all_tool_names:\n",
        "    print(tool_name)\n"
      ],
      "metadata": {
        "colab": {
          "base_uri": "https://localhost:8080/"
        },
        "id": "GYsEhwyDuB8H",
        "outputId": "303373d0-95a5-4703-9e4e-96138eb002ff"
      },
      "execution_count": 64,
      "outputs": [
        {
          "output_type": "stream",
          "name": "stdout",
          "text": [
            "Available Tools:\n",
            "sleep\n",
            "wolfram-alpha\n",
            "google-search\n",
            "google-search-results-json\n",
            "searx-search-results-json\n",
            "bing-search\n",
            "metaphor-search\n",
            "ddg-search\n",
            "google-books\n",
            "google-lens\n",
            "google-serper\n",
            "google-scholar\n",
            "google-finance\n",
            "google-trends\n",
            "google-jobs\n",
            "google-serper-results-json\n",
            "searchapi\n",
            "searchapi-results-json\n",
            "serpapi\n",
            "dalle-image-generator\n",
            "twilio\n",
            "searx-search\n",
            "merriam-webster\n",
            "wikipedia\n",
            "arxiv\n",
            "golden-query\n",
            "pubmed\n",
            "human\n",
            "awslambda\n",
            "stackexchange\n",
            "sceneXplain\n",
            "graphql\n",
            "openweathermap-api\n",
            "dataforseo-api-search\n",
            "dataforseo-api-search-json\n",
            "eleven_labs_text2speech\n",
            "google_cloud_texttospeech\n",
            "read_file\n",
            "reddit_search\n",
            "news-api\n",
            "tmdb-api\n",
            "podcast-api\n",
            "memorize\n",
            "llm-math\n",
            "open-meteo-api\n",
            "requests\n",
            "requests_get\n",
            "requests_post\n",
            "requests_patch\n",
            "requests_put\n",
            "requests_delete\n",
            "terminal\n"
          ]
        }
      ]
    },
    {
      "cell_type": "code",
      "source": [
        "# The tools we'll give the Agent access to. Note that the 'llm-math' tool uses an LLM, so we need to pass that in.\n",
        "tools = load_tools([\"wikipedia\", \"ddg-search\", \"llm-math\"], llm=llm)"
      ],
      "metadata": {
        "id": "DsetJm7FsKWi"
      },
      "execution_count": 66,
      "outputs": []
    },
    {
      "cell_type": "code",
      "source": [
        "# Finally, let's initialize an agent with the tools, the language model, and the type of agent we want to use.\n",
        "agent = initialize_agent(\n",
        "    tools,\n",
        "    llm,\n",
        "    agent=AgentType.ZERO_SHOT_REACT_DESCRIPTION,\n",
        "    verbose=True\n",
        ")\n",
        "\n",
        "# Let's test it out!\n",
        "agent.run(\"Who is the Prime Minister of Pakistan?\")"
      ],
      "metadata": {
        "colab": {
          "base_uri": "https://localhost:8080/",
          "height": 421
        },
        "id": "HbhhztsMsXJP",
        "outputId": "c8a92234-c68d-4d09-ba2b-402be2956595"
      },
      "execution_count": 67,
      "outputs": [
        {
          "output_type": "stream",
          "name": "stdout",
          "text": [
            "\n",
            "\n",
            "\u001b[1m> Entering new AgentExecutor chain...\u001b[0m\n",
            "\u001b[32;1m\u001b[1;3mThought: I need to find the current Prime Minister of Pakistan, which is a current event. \n",
            "Action: duckduckgo_search\n",
            "Action Input: \"Prime Minister of Pakistan\"\u001b[0m\n",
            "Observation: \u001b[33;1m\u001b[1;3mLawmakers in Pakistan's National Assembly have elected Shehbaz Sharif for a comeback term as prime minister. He held the office from April 2022 to August 2023, and is the younger brother of three-time premier Nawaz Sharif. ... FILE - Pakistan's former Prime Minister Shehbaz Sharif speaks during a press conference regarding parliamentary ... Nawaz is a three-time elected Prime Minister of Pakistan. Nawaz's wife, Kulsoom Nawaz, was the First Lady of Pakistan for three non-consecutive terms and his daughter, Maryam Nawaz Sharif is the current Chief Minister of Punjab. ISLAMABAD (AP) — Shehbaz Sharif was sworn in as Pakistan's new prime minister on Monday after being elected a day earlier in a raucous parliamentary session. He held the same position from April 2022 to August 2023, replacing archrival Imran Khan who was kicked out of the job after a no-confidence vote. Shehbaz is the younger brother of ... Pakistan's newly formed parliament has elected Shehbaz Sharif as prime minister for a second term. He defeated a rival supported by jailed former Prime Minister Imran Khan. The move comes three ... Islamabad, Pakistan - Pakistani legislators have elected Shehbaz Sharif as the country's prime minister for a second term following a controversial election last month.. The South Asian ...\u001b[0m\n",
            "Thought:\u001b[32;1m\u001b[1;3mThought: I now know that Shehbaz Sharif is the Prime Minister of Pakistan, but I need to confirm if he is still the current Prime Minister or if there has been a change.\n",
            "Action: duckduckgo_search\n",
            "Action Input: \"current Prime Minister of Pakistan\"\u001b[0m\n",
            "Observation: \u001b[33;1m\u001b[1;3mNawaz is a three-time elected Prime Minister of Pakistan. Nawaz's wife, Kulsoom Nawaz, was the First Lady of Pakistan for three non-consecutive terms and his daughter, Maryam Nawaz Sharif is the current Chief Minister of Punjab. Lawmakers in Pakistan's National Assembly have elected Shehbaz Sharif for a comeback term as prime minister. He held the office from April 2022 to August 2023, and is the younger brother of three-time premier Nawaz Sharif. ... Pakistan's former Prime Minister Shehbaz Sharif speaks during a press conference regarding parliamentary elections ... Islamabad, Pakistan - Pakistani legislators have elected Shehbaz Sharif as the country's prime minister for a second term following a controversial election last month.. The South Asian ... Sharif is the 24th prime minister in Pakistan's 77-year history. The Associated Press is an independent global news organization dedicated to factual reporting. Founded in 1846, AP today remains the most trusted source of fast, accurate, unbiased news in all formats and the essential provider of the technology and services vital to the news ... Pakistan's newly formed parliament has elected Shehbaz Sharif as prime minister for a second term. He defeated a rival supported by jailed former Prime Minister Imran Khan. The move comes three ...\u001b[0m\n",
            "Thought:\u001b[32;1m\u001b[1;3mThought: It seems that the information I found is outdated, and I need to find the current Prime Minister of Pakistan.\n",
            "\n",
            "Action: duckduckgo_search\n",
            "Action Input: \"current Prime Minister of Pakistan 2023\"\u001b[0m\n",
            "Observation: \u001b[33;1m\u001b[1;3mLawmakers in Pakistan's National Assembly have elected Shehbaz Sharif for a comeback term as prime minister. He held the office from April 2022 to August 2023, and is the younger brother of three-time premier Nawaz Sharif. ... Pakistan's former Prime Minister Shehbaz Sharif speaks during a press conference regarding parliamentary elections ... Mian Muhammad Shehbaz Sharif [a] (born 23 September 1951) is a Pakistani politician and businessman who has served as the prime minister of Pakistan since March 2024, having previously served as the prime minister from April 2022 to August 2023. ISLAMABAD (AP) — Shehbaz Sharif was sworn in as Pakistan's new prime minister on Monday after being elected a day earlier in a raucous parliamentary session. He held the same position from April 2022 to August 2023, replacing archrival Imran Khan who was kicked out of the job after a no-confidence vote. Shehbaz is the younger brother of ... ISLAMABAD (AP) — The 19-member Cabinet of Pakistan's newly elected Prime Minister Shahbaz Sharif was sworn into office on Monday and held its first meeting. The prime minister appointed several top government posts and promised to tackle the country's unrelenting economic crisis. ... Sharif held the same position from April 2022 to August ... Shehbaz Sharif elected as Pakistan's new prime minister for 2nd term. ... The 72-year-old cancer survivor previously served as premier from April 2022 to Aug. 2023 following a successful ...\u001b[0m\n",
            "Thought:\u001b[32;1m\u001b[1;3mThought: I finally found the current Prime Minister of Pakistan, and I can confidently answer the question.\n",
            "Final Answer: The Prime Minister of Pakistan is Mian Muhammad Shehbaz Sharif, having served as the prime minister of Pakistan since March 2024.\u001b[0m\n",
            "\n",
            "\u001b[1m> Finished chain.\u001b[0m\n"
          ]
        },
        {
          "output_type": "execute_result",
          "data": {
            "text/plain": [
              "'The Prime Minister of Pakistan is Mian Muhammad Shehbaz Sharif, having served as the prime minister of Pakistan since March 2024.'"
            ],
            "application/vnd.google.colaboratory.intrinsic+json": {
              "type": "string"
            }
          },
          "metadata": {},
          "execution_count": 67
        }
      ]
    },
    {
      "cell_type": "code",
      "source": [
        "%pip install -qU duckduckgo-search langchain-community"
      ],
      "metadata": {
        "colab": {
          "base_uri": "https://localhost:8080/"
        },
        "id": "yllNoiuosxdf",
        "outputId": "5412b87c-dff3-460b-cc52-3a5ce1b2a858"
      },
      "execution_count": 44,
      "outputs": [
        {
          "output_type": "stream",
          "name": "stdout",
          "text": [
            "\u001b[?25l   \u001b[90m━━━━━━━━━━━━━━━━━━━━━━━━━━━━━━━━━━━━━━━━\u001b[0m \u001b[32m0.0/3.2 MB\u001b[0m \u001b[31m?\u001b[0m eta \u001b[36m-:--:--\u001b[0m\r\u001b[2K   \u001b[91m━━━━━━━━━━━━━━━━━━━━━━━━━━━━━━━━━━━━━━━\u001b[0m\u001b[91m╸\u001b[0m \u001b[32m3.2/3.2 MB\u001b[0m \u001b[31m137.2 MB/s\u001b[0m eta \u001b[36m0:00:01\u001b[0m\r\u001b[2K   \u001b[90m━━━━━━━━━━━━━━━━━━━━━━━━━━━━━━━━━━━━━━━━\u001b[0m \u001b[32m3.2/3.2 MB\u001b[0m \u001b[31m65.7 MB/s\u001b[0m eta \u001b[36m0:00:00\u001b[0m\n",
            "\u001b[?25h"
          ]
        }
      ]
    },
    {
      "cell_type": "code",
      "source": [
        "from langchain_community.tools import DuckDuckGoSearchResults\n",
        "\n",
        "search = DuckDuckGoSearchResults()\n",
        "\n",
        "search.invoke(\"Who is the Prime Minister of Pakistan?\")"
      ],
      "metadata": {
        "colab": {
          "base_uri": "https://localhost:8080/",
          "height": 145
        },
        "id": "nmGdCe6zvkOT",
        "outputId": "231920da-fe30-421c-b2f6-816817b2d875"
      },
      "execution_count": 45,
      "outputs": [
        {
          "output_type": "execute_result",
          "data": {
            "text/plain": [
              "\"snippet: Mian Muhammad Shehbaz Sharif [a] (born 23 September 1951) is a Pakistani politician and businessman who has served as the prime minister of Pakistan since March 2024, having previously served as the prime minister from April 2022 to August 2023., title: Shehbaz Sharif - Wikipedia, link: https://en.wikipedia.org/wiki/Shehbaz_Sharif, snippet: Lawmakers in Pakistan's National Assembly have elected Shehbaz Sharif for a comeback term as prime minister. He held the office from April 2022 to August 2023, and is the younger brother of three-time premier Nawaz Sharif., title: Shehbaz Sharif has been elected as Pakistan's new prime minister | AP News, link: https://apnews.com/article/pakistan-prime-minister-shehbaz-sharif-imran-khan-a6c17eacd7fc17026c41bc2d6bab97c0, snippet: ISLAMABAD (AP) — Shehbaz Sharif was sworn in as Pakistan's new prime minister on Monday after being elected a day earlier in a raucous parliamentary session. He held the same position from April 2022 to August 2023, replacing archrival Imran Khan who was kicked out of the job after a no-confidence vote. Shehbaz is the younger brother of ..., title: Shehbaz Sharif sworn in as Pakistan's prime minister after contentious ..., link: https://apnews.com/article/pakistan-prime-minister-shebaz-sharif-swearing-3d84e6f5ba749bd177ff873d3f6fe8d4, snippet: Islamabad, Pakistan - Pakistani legislators have elected Shehbaz Sharif as the country's prime minister for a second term following a controversial election last month.. The South Asian ..., title: Shehbaz Sharif elected Pakistan PM for second term after controversial ..., link: https://www.aljazeera.com/news/2024/3/3/shehbaz-sharif-set-to-become-pakistans-new-pm-after-controversial-election\""
            ],
            "application/vnd.google.colaboratory.intrinsic+json": {
              "type": "string"
            }
          },
          "metadata": {},
          "execution_count": 45
        }
      ]
    },
    {
      "cell_type": "code",
      "source": [
        "# Let's test it out!\n",
        "agent.run(\"whats the final output for this expression (2/2)+2-(2*2)\")"
      ],
      "metadata": {
        "colab": {
          "base_uri": "https://localhost:8080/",
          "height": 255
        },
        "id": "kHrdbBC4vuRf",
        "outputId": "c8291154-3768-46ee-ecd5-8ad4cf72c03d"
      },
      "execution_count": 80,
      "outputs": [
        {
          "output_type": "stream",
          "name": "stdout",
          "text": [
            "\n",
            "\n",
            "\u001b[1m> Entering new AgentExecutor chain...\u001b[0m\n",
            "\u001b[32;1m\u001b[1;3mI need to evaluate this mathematical expression to find the final output.\n",
            "\n",
            "Action: Calculator\n",
            "Action Input: (2/2)+2-(2*2)\u001b[0m\n",
            "Observation: \u001b[38;5;200m\u001b[1;3mAnswer: -1.0\u001b[0m\n",
            "Thought:\u001b[32;1m\u001b[1;3mI now know the final answer\n",
            "Final Answer: -1.0\u001b[0m\n",
            "\n",
            "\u001b[1m> Finished chain.\u001b[0m\n"
          ]
        },
        {
          "output_type": "execute_result",
          "data": {
            "text/plain": [
              "'-1.0'"
            ],
            "application/vnd.google.colaboratory.intrinsic+json": {
              "type": "string"
            }
          },
          "metadata": {},
          "execution_count": 80
        }
      ]
    },
    {
      "cell_type": "code",
      "source": [
        "def llm_response(query):\n",
        "  llm = ChatGroq(model=\"llama3-70b-8192\", api_key=api_key)\n",
        "  # The tools we'll give the Agent access to. Note that the 'llm-math' tool uses an LLM, so we need to pass that in.\n",
        "  tools = load_tools([\"wikipedia\", \"ddg-search\", \"llm-math\"], llm=llm)\n",
        "  # Finally, let's initialize an agent with the tools, the language model, and the type of agent we want to use.\n",
        "  agent = initialize_agent(\n",
        "      tools,\n",
        "      llm,\n",
        "      agent=AgentType.ZERO_SHOT_REACT_DESCRIPTION,\n",
        "      verbose=True\n",
        "  )\n",
        "  return agent.run(query)"
      ],
      "metadata": {
        "id": "PCJqcjF9yTFh"
      },
      "execution_count": 125,
      "outputs": []
    },
    {
      "cell_type": "code",
      "source": [
        "llm_response(\"Who is the Prime Minister of Pakistan?\")"
      ],
      "metadata": {
        "colab": {
          "base_uri": "https://localhost:8080/",
          "height": 475
        },
        "id": "BaADFYt-7h7N",
        "outputId": "a207083f-016a-4517-d318-ab252db5b9b0"
      },
      "execution_count": 92,
      "outputs": [
        {
          "output_type": "stream",
          "name": "stdout",
          "text": [
            "\n",
            "\n",
            "\u001b[1m> Entering new AgentExecutor chain...\u001b[0m\n",
            "\u001b[32;1m\u001b[1;3mThought: I need to find the current Prime Minister of Pakistan, which is a current event. I should use DuckDuckGo Search to get the latest information.\n",
            "\n",
            "Action: duckduckgo_search\n",
            "Action Input: \"Prime Minister of Pakistan\"\u001b[0m\n",
            "Observation: \u001b[33;1m\u001b[1;3mLawmakers in Pakistan's National Assembly have elected Shehbaz Sharif for a comeback term as prime minister. He held the office from April 2022 to August 2023, and is the younger brother of three-time premier Nawaz Sharif. ... FILE - Pakistan's former Prime Minister Shehbaz Sharif speaks during a press conference regarding parliamentary ... Nawaz is a three-time elected Prime Minister of Pakistan. Nawaz's wife, Kulsoom Nawaz, was the First Lady of Pakistan for three non-consecutive terms and his daughter, Maryam Nawaz Sharif is the current Chief Minister of Punjab. Pakistan's newly formed parliament has elected Shehbaz Sharif as prime minister for a second term. He defeated a rival supported by jailed former Prime Minister Imran Khan. The move comes three ... ISLAMABAD (AP) — Shehbaz Sharif was sworn in as Pakistan's new prime minister on Monday after being elected a day earlier in a raucous parliamentary session. He held the same position from April 2022 to August 2023, replacing archrival Imran Khan who was kicked out of the job after a no-confidence vote. Shehbaz is the younger brother of ... The Pakistan Muslim League Nawaz party (PMLN), headed by former Prime Minister Nawaz Sharif who is also the older brother of Shehbaz Sharif, came in second with 73 seats, and their long-term ...\u001b[0m\n",
            "Thought:\u001b[32;1m\u001b[1;3mThought: It seems that the search result is providing information about Shehbaz Sharif being the Prime Minister of Pakistan, but it's not clear if he is still the current Prime Minister. I need to find a more recent source to confirm.\n",
            "\n",
            "Action: duckduckgo_search\n",
            "Action Input: \"Current Prime Minister of Pakistan\"\u001b[0m\n",
            "Observation: \u001b[33;1m\u001b[1;3mNawaz is a three-time elected Prime Minister of Pakistan. Nawaz's wife, Kulsoom Nawaz, was the First Lady of Pakistan for three non-consecutive terms and his daughter, Maryam Nawaz Sharif is the current Chief Minister of Punjab. Lawmakers in Pakistan's National Assembly have elected Shehbaz Sharif for a comeback term as prime minister. He held the office from April 2022 to August 2023, and is the younger brother of three-time premier Nawaz Sharif. ... Pakistan's former Prime Minister Shehbaz Sharif speaks during a press conference regarding parliamentary elections ... Islamabad, Pakistan - Pakistani legislators have elected Shehbaz Sharif as the country's prime minister for a second term following a controversial election last month.. The South Asian ... Sharif is the 24th prime minister in Pakistan's 77-year history. The Associated Press is an independent global news organization dedicated to factual reporting. Founded in 1846, AP today remains the most trusted source of fast, accurate, unbiased news in all formats and the essential provider of the technology and services vital to the news ... Pakistan's newly formed parliament has elected Shehbaz Sharif as prime minister for a second term. He defeated a rival supported by jailed former Prime Minister Imran Khan. The move comes three ...\u001b[0m\n",
            "Thought:\u001b[32;1m\u001b[1;3mThought: I have found multiple sources confirming that Shehbaz Sharif was the Prime Minister of Pakistan, but I still need to confirm if he is still the current Prime Minister.\n",
            "\n",
            "Action: duckduckgo_search\n",
            "Action Input: \"Current Prime Minister of Pakistan today\"\u001b[0m\n",
            "Observation: \u001b[33;1m\u001b[1;3mFounded in 1846, AP today remains the most trusted source of fast, accurate, unbiased news in all formats and the essential provider of the technology and services vital to the news business. ... Pakistan's former Prime Minister Shehbaz Sharif speaks during a press conference regarding parliamentary elections, in Lahore, Pakistan, Tuesday ... Islamabad, Pakistan - Pakistani legislators have elected Shehbaz Sharif as the country's prime minister for a second term following a controversial election last month.. The South Asian ... Pakistan's newly formed parliament has elected Shehbaz Sharif as prime minister for a second term. He defeated a rival supported by jailed former Prime Minister Imran Khan. The move comes three ... 2 of 3 | . In this photo released by the Pakistan's President Office, President Arif Alvi, right, administers the oath of office to newly elected Prime Minister Shehbaz Sharif during a ceremony at the Presidential Palace, in Islamabad, Pakistan, Monday, March 4, 2024. The Pakistan Muslim League Nawaz party (PMLN), headed by former Prime Minister Nawaz Sharif who is also the older brother of Shehbaz Sharif, came in second with 73 seats, and their long-term ...\u001b[0m\n",
            "Thought:\u001b[32;1m\u001b[1;3mThought: I now know the final answer.\n",
            "\n",
            "Final Answer: As of my knowledge cutoff, Shehbaz Sharif is the current Prime Minister of Pakistan.\u001b[0m\n",
            "\n",
            "\u001b[1m> Finished chain.\u001b[0m\n"
          ]
        },
        {
          "output_type": "execute_result",
          "data": {
            "text/plain": [
              "'As of my knowledge cutoff, Shehbaz Sharif is the current Prime Minister of Pakistan.'"
            ],
            "application/vnd.google.colaboratory.intrinsic+json": {
              "type": "string"
            }
          },
          "metadata": {},
          "execution_count": 92
        }
      ]
    },
    {
      "cell_type": "code",
      "source": [
        "llm_response(\"Current Cricketer, who has a most runs?\")"
      ],
      "metadata": {
        "colab": {
          "base_uri": "https://localhost:8080/",
          "height": 822
        },
        "id": "d5FPaHtk7jwp",
        "outputId": "0aea9524-dba9-402b-874b-8839be5704e2"
      },
      "execution_count": 96,
      "outputs": [
        {
          "output_type": "stream",
          "name": "stdout",
          "text": [
            "\n",
            "\n",
            "\u001b[1m> Entering new AgentExecutor chain...\u001b[0m\n",
            "\u001b[32;1m\u001b[1;3mThought: I need to find the current cricketer with the most runs.\n",
            "\n",
            "Action: wikipedia\n",
            "Action Input: List of cricketers by runs scored\u001b[0m\n",
            "Observation: \u001b[36;1m\u001b[1;3mPage: List of cricketers by number of international centuries scored\n",
            "Summary: This list is a compilation of total centuries scored by international cricketers, split between different formats of the game.\n",
            "A qualification of 15 overall centuries is used for entry onto the men's list. To date, 127 cricketers have scored 15 or more international centuries, 83 of whom went on to score 20 or more centuries, 44 have scored 30 or more centuries, and 21 have a total of 40 or more centuries. Across all three formats, 9 players have scored 50 or more centuries, 5 have scored 60 or more centuries and 3 have scored 70 or more centuries, 2 have scored 80 or more centuries in their respective international careers. Only one cricketer has scored 100 centuries. \n",
            "Five centuries is used as the qualifying standard for the women's list; to date, 28 players have reached this mark.\n",
            "\n",
            "Page: List of India ODI cricketers\n",
            "Summary: A One Day International (ODI) is an international cricket match between two representative teams, each having ODI status, as determined by the International Cricket Council (ICC). An ODI differs from Test matches in that the number of overs per team is limited, and that each team has only one innings.\n",
            "India played their first ODI in 1974 and a total of 256 players have represented the team. Since 1974 India has played 1,058 ODIs, resulting in 559 victories, 445 defeats, 10 ties and 44 no results. India's first series victory came against England in 1981, winning 2–1. India won the Cricket World Cup twice in 1983 and 2011 and was runner-up in 2003 and 2023. India won the ICC Champions Trophy in the year 2013 and had earlier shared once with Sri Lanka in 2002 because rain washed out the attempt to complete the final twice. India was also runner-up in 2000. India have won the Asia Cup (in ODI format) a total of seven times in 1984, 1988, 1990, 1995, 2010,  2018 and 2023.\n",
            "Sachin Tendulkar is the youngest debutant at the age of 16 years and 238 days and Farokh Engineer is the oldest debutant at the age of 36 years and 138 days. Anil Kumble is the leading wicket taker with 337 wickets to his name, and Sachin Tendulkar is the leading run scorer with 18,426 runs to his name from 452 innings at an average of 44.83. Tendulkar holds the record for playing the most ODI matches played (463). He also holds the world record number of Man of the Match awards. Rohit Sharma's score of 264 against Sri Lanka in November 2014 is the highest number of runs scored by any player in an ODI. Sourav Ganguly's 183 against Sri Lanka is the highest number of runs scored by an Indian Cricketer in a Cricket World Cup match.\n",
            "\n",
            "Page: Virat Kohli\n",
            "Summary: Virat Kohli (Hindi pronunciation: [ʋɪˈɾɑːʈ ˈkoːɦli] ; born 5 November 1988) is an Indian international cricketer who plays Test and ODI cricket for the Indian national team. A former captain in all formats of the game, Kohli retired from the T20I format following India's win at the 2024 T20 World Cup. He's a right-handed batsman and an occasional unorthodox right arm quick bowler. Kohli holds the highest IPL run-scorer record, ranks third in T20I, third in ODI, and stands the fourth-highest in international cricket. Regarded as one of the greatest batsmen of all time, he also holds the record for scoring the most centuries in ODI cricket and is second in the list of most international centuries scored in international cricket.\n",
            "Kohli was a member of the Indian team that won the 2008 Under-19 Cricket World Cup, 2011 Cricket World Cup, 2013 Champions Trophy and 2024 T20 World Cup and also captained India to win the ICC Test mace three consecutive times in 2017, 2018, and 2019. He represents Royal Challengers Bengaluru in the Indian Premier League and Delhi in domestic cricket.\n",
            "In 2013, Kohli was ranked number one in the ODI batsmen ICC rankings. In 2015, he also achieved the same for T20I rankings. In 2018, he was ranked the top Test batsman, making him the only Indian cricketer to hold the number one spot in all \u001b[0m\n",
            "Thought:\u001b[32;1m\u001b[1;3mThought: I have found some relevant information, but I need to find the current cricketer with the most runs.\n",
            "\n",
            "Action: wikipedia\n",
            "Action Input: Sachin Tendulkar\u001b[0m\n",
            "Observation: \u001b[36;1m\u001b[1;3mPage: Sachin Tendulkar\n",
            "Summary: Sachin Ramesh Tendulkar ( ; pronounced [sətɕin teːɳɖulkəɾ]; born 24 April 1973) is an Indian former international cricketer who captained the Indian national team. He is widely regarded as one of the greatest batsmen in the history of cricket. Hailed as the world's most prolific batsman of all time, he is the all-time highest run-scorer in both ODI and Test cricket with more than 18,000 runs and 15,000 runs, respectively. He also holds the record for receiving the most player of the match awards in international cricket. Tendulkar was a Member of Parliament, Rajya Sabha by presidential nomination from 2012 to 2018. He is also the only batsman to score 100 international centuries.\n",
            "Tendulkar took up cricket at the age of eleven, made his Test match debut on 15 November 1989 against Pakistan in Karachi at the age of sixteen, and went on to represent Mumbai domestically and India internationally for over 24 years. In 2002, halfway through his career, Wisden ranked him the second-greatest Test batsman of all time, behind Don Bradman, and the second-greatest ODI batsman of all time, behind Viv Richards. The same year, Tendulkar was a part of the team that was one of the joint-winners of the 2002 ICC Champions Trophy. Later in his career, Tendulkar was part of the Indian team that won the 2011 Cricket World Cup, his first win in six World Cup appearances for India. He had previously been named \"Player of the Tournament\" at the 2003 World Cup.\n",
            "Tendulkar has received several awards from the government of India: the Arjuna Award (1994), the Khel Ratna Award (1997), the Padma Shri (1998), and the Padma Vibhushan (2008). After Tendulkar played his last match in November 2013, the Prime Minister's Office announced the decision to award him the Bharat Ratna, India's highest civilian award. He was the first sportsperson to receive the award and, as of 2024, is the youngest recipient. In 2010, Time included Tendulkar in its annual list of the most influential people in the world. Tendulkar was awarded the Sir Garfield Sobers Trophy for cricketer of the year at the 2010 International Cricket Council (ICC) Awards.\n",
            "Having retired from ODI cricket in 2012, he retired from all forms of cricket in November 2013 after playing his 200th Test match. Tendulkar played 664 international cricket matches in total, scoring 34,357 runs. In 2013, Tendulkar was included in an all-time Test World XI to mark the 150th anniversary of Wisden Cricketers' Almanack, and he was one of only two specialist batsmen of the post–World War II era, along with Viv Richards, to get featured in the team. In 2019, he was inducted into the ICC Cricket Hall of Fame.\n",
            "\n",
            "\n",
            "\n",
            "Page: List of international cricket centuries by Sachin Tendulkar\n",
            "Summary: Sachin Tendulkar played for India, widely acknowledged as one of the greatest batsmen of all time, he is the most prolific run-scorer in international cricket. Tendulkar has scored the highest number of centuries (100 or more runs) in Test matches and One Day International (ODI) matches organised by the International Cricket Council. His total of 51 centuries in Test matches is a world record for highest number of centuries by a batsman and his 49 centuries in ODI matches are the second highest number of centuries after Virat Kohli. He became the first and only cricketer to score 100 international centuries when he made 114 against Bangladesh in March 2012.\n",
            "After making his Test debut in 1989, Tendulkar achieved his first century against England at Old Trafford, Manchester in 1990; he made 119 not out. In Test matches, Tendulkar has scored centuries against all the Test cricket playing nations, and is the second batsman to score 150 against each of them. He has scored a century in at least one cricket ground of all Test cricket playing nations, except Zimbabwe. In October 2010, Tendulkar went past Brian Lara's record of 19 scores of 150 or more by hitting his 20th against Australia in Bangalore. He made his hig\u001b[0m\n",
            "Thought:\u001b[32;1m\u001b[1;3mThought: I now know the final answer.\n",
            "\n",
            "Final Answer: Virat Kohli is the current cricketer with the most runs, but Sachin Tendulkar holds the record for the highest number of runs scored in international cricket.\u001b[0m\n",
            "\n",
            "\u001b[1m> Finished chain.\u001b[0m\n"
          ]
        },
        {
          "output_type": "execute_result",
          "data": {
            "text/plain": [
              "'Virat Kohli is the current cricketer with the most runs, but Sachin Tendulkar holds the record for the highest number of runs scored in international cricket.'"
            ],
            "application/vnd.google.colaboratory.intrinsic+json": {
              "type": "string"
            }
          },
          "metadata": {},
          "execution_count": 96
        }
      ]
    },
    {
      "cell_type": "code",
      "source": [
        "def string_cap(input):\n",
        "  return input.capitalize()"
      ],
      "metadata": {
        "id": "rn1qg8oJ9Irc"
      },
      "execution_count": 137,
      "outputs": []
    },
    {
      "cell_type": "code",
      "source": [
        "lg = Graph()\n",
        "\n",
        "\n",
        "lg.add_node(\"llm\", llm_response)\n",
        "lg.add_node(\"string_cap\", string_cap)\n",
        "lg.add_edge(\"llm\", \"string_cap\")\n",
        "\n",
        "# lg.add_edge(\"string_len\", \"llm\")\n",
        "\n",
        "lg.set_entry_point(\"llm\")\n",
        "lg.set_finish_point(\"string_cap\")"
      ],
      "metadata": {
        "colab": {
          "base_uri": "https://localhost:8080/"
        },
        "id": "bsoEC0kaNP4W",
        "outputId": "445e7681-b914-4f51-931b-6fc27d293bed"
      },
      "execution_count": 138,
      "outputs": [
        {
          "output_type": "execute_result",
          "data": {
            "text/plain": [
              "<langgraph.graph.graph.Graph at 0x7ea995b8b610>"
            ]
          },
          "metadata": {},
          "execution_count": 138
        }
      ]
    },
    {
      "cell_type": "code",
      "source": [
        "graph = lg.compile()"
      ],
      "metadata": {
        "id": "4351hp6zN6qB"
      },
      "execution_count": 139,
      "outputs": []
    },
    {
      "cell_type": "code",
      "source": [
        "from IPython.display import Image, display\n",
        "\n",
        "try:\n",
        "    display(Image(graph.get_graph().draw_mermaid_png()))\n",
        "except Exception:\n",
        "    # This requires some extra dependencies and is optional\n",
        "    pass"
      ],
      "metadata": {
        "colab": {
          "base_uri": "https://localhost:8080/",
          "height": 350
        },
        "id": "A6afaN63OJnb",
        "outputId": "b6903ca1-ffe6-4e02-b7c4-272788b67f7c"
      },
      "execution_count": 140,
      "outputs": [
        {
          "output_type": "display_data",
          "data": {
            "image/png": "[encoded data removed]",
            "text/plain": [
              "<IPython.core.display.Image object>"
            ]
          },
          "metadata": {}
        }
      ]
    },
    {
      "cell_type": "code",
      "source": [
        "graph.invoke(\"Virat Kohli DOB?\")"
      ],
      "metadata": {
        "colab": {
          "base_uri": "https://localhost:8080/",
          "height": 530
        },
        "id": "L1AOsfOsOK6t",
        "outputId": "b4e5fd42-c952-408a-9cdc-0bd3e62c273c"
      },
      "execution_count": 141,
      "outputs": [
        {
          "output_type": "stream",
          "name": "stdout",
          "text": [
            "\n",
            "\n",
            "\u001b[1m> Entering new AgentExecutor chain...\u001b[0m\n",
            "\u001b[32;1m\u001b[1;3mThought: I need to find the date of birth of Virat Kohli, an Indian cricketer.\n",
            "\n",
            "Action: wikipedia\n",
            "Action Input: Virat Kohli\u001b[0m\n",
            "Observation: \u001b[36;1m\u001b[1;3mPage: Virat Kohli\n",
            "Summary: Virat Kohli (Hindi pronunciation: [ʋɪˈɾɑːʈ ˈkoːɦli] ; born 5 November 1988) is an Indian international cricketer who plays Test and ODI cricket for the Indian national team. A former captain in all formats of the game, Kohli retired from the T20I format following India's win at the 2024 T20 World Cup. He's a right-handed batsman and an occasional unorthodox right arm quick bowler. Kohli holds the highest IPL run-scorer record, ranks third in T20I, third in ODI, and stands the fourth-highest in international cricket. Regarded as one of the greatest batsmen of all time, he also holds the record for scoring the most centuries in ODI cricket and is second in the list of most international centuries scored in international cricket.\n",
            "Kohli was a member of the Indian team that won the 2008 Under-19 Cricket World Cup, 2011 Cricket World Cup, 2013 Champions Trophy and 2024 T20 World Cup and also captained India to win the ICC Test mace three consecutive times in 2017, 2018, and 2019. He represents Royal Challengers Bengaluru in the Indian Premier League and Delhi in domestic cricket.\n",
            "In 2013, Kohli was ranked number one in the ODI batsmen ICC rankings. In 2015, he also achieved the same for T20I rankings. In 2018, he was ranked the top Test batsman, making him the only Indian cricketer to hold the number one spot in all three formats. He is the first player to score 20,000 runs in a decade. In 2020, the ICC named him the male cricketer of the decade.\n",
            "Kohli has garnered 10 ICC Awards making him the most awarded player in International Cricket history. He won the ICC ODI Player of the Year award four times in 2012, 2017, 2018, and 2023. He also won the Sir Garfield Sobers Trophy, given to the ICC Cricketer of the Year, on two occasions, in 2017 and 2018 respectively. In 2018, he became the first player to win both ICC ODI and Test Player of the Year awards in the same year. Also, he was named the Wisden Leading Cricketer in the World for three consecutive years, from 2016 to 2018. Kohli has the most Player of the Series awards and second most Player of the Match awards to his name in all three formats combined. He was honoured with the Arjuna Award in 2013, the Padma Shri in 2017, and India's highest sporting honour, the Khel Ratna Award, in 2018. In 2018, Time magazine included him on its list of the 100 most influential people in the world.\n",
            "After winning the 2024 T20 World Cup and the Player of the Match in the Final, Kohli announced his retirement from T20Is.\n",
            "\n",
            "Page: Career of Virat Kohli\n",
            "Summary: Virat Kohli's senior career began when he made his debut in List A cricket, playing against Services in the Ranji One-Day Trophy, but he did not have the opportunity to bat during the match. On the international stage, he has been representing India since he was included in the ODl squad for the tour of Sri Lanka.\n",
            "\n",
            "Kohli was part of the team during India won the 2011 Cricket World Cup, the 2013 ICC Champions Trophy and the 2024 ICC T20 World Cup alongside several Asia Cups. He had previously led his side to the 2008 Under-19 Cricket World Cup title. In league cricket, Kohli has played for the Royal Challengers Bengaluru since the inception of the team in 2008.\n",
            "\n",
            "Page: List of international cricket centuries by Virat Kohli\n",
            "Summary: Virat Kohli is an Indian cricketer and a former captain of the India national cricket team. A right-handed top-order batsman, he has made 81 centuries in international cricket—thirty in Test cricket, fifty in One Day Internationals (ODIs) and one in Twenty20 Internationals (T20Is) as of November 2024.\n",
            "Kohli made his ODI debut against Sri Lanka in August 2008, and scored his first century the following year when he made 107 against the same team at Eden Gardens, Kolkata. His 86-ball 133 not out against Sri Lanka in February 2012 led India to the second highest run-chase by any team in Australia. Former Australian cricketer Dean Jones described the innings as \"One of the greatest ODI knocks of\u001b[0m\n",
            "Thought:\u001b[32;1m\u001b[1;3mThought: I now know the final answer\n",
            "Final Answer: Virat Kohli's date of birth is 5 November 1988.\u001b[0m\n",
            "\n",
            "\u001b[1m> Finished chain.\u001b[0m\n"
          ]
        },
        {
          "output_type": "execute_result",
          "data": {
            "text/plain": [
              "\"Virat kohli's date of birth is 5 november 1988.\""
            ],
            "application/vnd.google.colaboratory.intrinsic+json": {
              "type": "string"
            }
          },
          "metadata": {},
          "execution_count": 141
        }
      ]
    },
    {
      "cell_type": "markdown",
      "source": [
        "## **Enhancing the Chatbot with Tools**"
      ],
      "metadata": {
        "id": "NIeukDcIVlri"
      }
    },
    {
      "cell_type": "code",
      "source": [
        "from langchain_community.tools import DuckDuckGoSearchResults\n",
        "\n",
        "tools = DuckDuckGoSearchResults()\n",
        "\n",
        "tools.invoke(\"Who is the Prime Minister of Pakistan?\")"
      ],
      "metadata": {
        "colab": {
          "base_uri": "https://localhost:8080/",
          "height": 145
        },
        "id": "0ASwYw0uRNc8",
        "outputId": "f56d6e06-06fc-48c6-fee7-748cc4c45454"
      },
      "execution_count": 149,
      "outputs": [
        {
          "output_type": "execute_result",
          "data": {
            "text/plain": [
              "\"snippet: Lawmakers in Pakistan's National Assembly have elected Shehbaz Sharif for a comeback term as prime minister. He held the office from April 2022 to August 2023, and is the younger brother of three-time premier Nawaz Sharif., title: Shehbaz Sharif has been elected as Pakistan's new prime minister | AP News, link: https://apnews.com/article/pakistan-prime-minister-shehbaz-sharif-imran-khan-a6c17eacd7fc17026c41bc2d6bab97c0, snippet: Mian Muhammad Shehbaz Sharif [a] (born 23 September 1951) is a Pakistani politician and businessman who has served as the prime minister of Pakistan since March 2024, having previously served as the prime minister from April 2022 to August 2023., title: Shehbaz Sharif - Wikipedia, link: https://en.wikipedia.org/wiki/Shehbaz_Sharif, snippet: Islamabad, Pakistan - Pakistani legislators have elected Shehbaz Sharif as the country's prime minister for a second term following a controversial election last month.. The South Asian ..., title: Shehbaz Sharif elected Pakistan PM for second term after controversial ..., link: https://www.aljazeera.com/news/2024/3/3/shehbaz-sharif-set-to-become-pakistans-new-pm-after-controversial-election, snippet: ISLAMABAD (AP) — Shehbaz Sharif was sworn in as Pakistan's new prime minister on Monday after being elected a day earlier in a raucous parliamentary session. He held the same position from April 2022 to August 2023, replacing archrival Imran Khan who was kicked out of the job after a no-confidence vote. Shehbaz is the younger brother of ..., title: Shehbaz Sharif sworn in as Pakistan's prime minister after contentious ..., link: https://apnews.com/article/pakistan-prime-minister-shebaz-sharif-swearing-3d84e6f5ba749bd177ff873d3f6fe8d4\""
            ],
            "application/vnd.google.colaboratory.intrinsic+json": {
              "type": "string"
            }
          },
          "metadata": {},
          "execution_count": 149
        }
      ]
    },
    {
      "cell_type": "code",
      "source": [
        "from typing import Annotated\n",
        "from typing_extensions import TypedDict\n",
        "from langgraph.graph import StateGraph, START, END\n",
        "from langgraph.graph.message import add_messages"
      ],
      "metadata": {
        "id": "GCMqjO2BSJ0E"
      },
      "execution_count": 197,
      "outputs": []
    },
    {
      "cell_type": "code",
      "source": [
        "class State(TypedDict):\n",
        "    messages: Annotated[list, add_messages]\n",
        "\n",
        "graph_builder = StateGraph(State)"
      ],
      "metadata": {
        "id": "exZqZ02OSRcZ"
      },
      "execution_count": 207,
      "outputs": []
    },
    {
      "cell_type": "code",
      "source": [
        "# Modification: tell the LLM which tools it can call\n",
        "llm_with_tools = llm.bind_tools([tools])"
      ],
      "metadata": {
        "id": "5qCWBGdvSYU_"
      },
      "execution_count": 209,
      "outputs": []
    },
    {
      "cell_type": "code",
      "source": [
        "llm_with_tools"
      ],
      "metadata": {
        "colab": {
          "base_uri": "https://localhost:8080/"
        },
        "id": "BZyJjK8uSyyV",
        "outputId": "930cc61c-8b49-4803-be89-e05342031990"
      },
      "execution_count": 210,
      "outputs": [
        {
          "output_type": "execute_result",
          "data": {
            "text/plain": [
              "RunnableBinding(bound=ChatGroq(client=<groq.resources.chat.completions.Completions object at 0x7ea9982ba290>, async_client=<groq.resources.chat.completions.AsyncCompletions object at 0x7ea9982b8340>, model_name='llama3-70b-8192', model_kwargs={}, groq_api_key=SecretStr('**********')), kwargs={'tools': [{'type': 'function', 'function': {'name': 'duckduckgo_results_json', 'description': 'A wrapper around Duck Duck Go Search. Useful for when you need to answer questions about current events. Input should be a search query.', 'parameters': {'properties': {'query': {'description': 'search query to look up', 'type': 'string'}}, 'required': ['query'], 'type': 'object'}}}]}, config={}, config_factories=[])"
            ]
          },
          "metadata": {},
          "execution_count": 210
        }
      ]
    },
    {
      "cell_type": "code",
      "source": [
        "from typing import Annotated\n",
        "from langchain_core.messages import BaseMessage\n",
        "from typing_extensions import TypedDict\n",
        "\n",
        "from langgraph.graph import StateGraph\n",
        "from langgraph.graph.message import add_messages\n",
        "from langgraph.prebuilt import ToolNode, tools_condition\n"
      ],
      "metadata": {
        "id": "N0f77N7yTfLk"
      },
      "execution_count": 211,
      "outputs": []
    },
    {
      "cell_type": "code",
      "source": [
        "def chatbot(state: State):\n",
        "    return {\"messages\": [llm_with_tools.invoke(state[\"messages\"])]}\n",
        "\n",
        "\n",
        "graph_builder.add_node(\"chatbot\", chatbot)"
      ],
      "metadata": {
        "colab": {
          "base_uri": "https://localhost:8080/"
        },
        "id": "Fusj7kSER54N",
        "outputId": "e43b8bde-d583-4e62-9d00-bf3ab41f2675"
      },
      "execution_count": 212,
      "outputs": [
        {
          "output_type": "execute_result",
          "data": {
            "text/plain": [
              "<langgraph.graph.state.StateGraph at 0x7ea995b8ba90>"
            ]
          },
          "metadata": {},
          "execution_count": 212
        }
      ]
    },
    {
      "cell_type": "code",
      "source": [
        "tool_node = ToolNode(tools=[tools])\n",
        "graph_builder.add_node(\"tools\", tool_node)\n",
        "\n",
        "graph_builder.add_conditional_edges(\n",
        "    \"chatbot\",\n",
        "    tools_condition,\n",
        ")\n",
        "# Any time a tool is called, we return to the chatbot to decide the next step\n",
        "graph_builder.add_edge(\"tools\", \"chatbot\")\n",
        "graph_builder.set_entry_point(\"chatbot\")\n",
        "graph = graph_builder.compile()"
      ],
      "metadata": {
        "id": "b33EAmP7S5Ha"
      },
      "execution_count": 213,
      "outputs": []
    },
    {
      "cell_type": "code",
      "source": [
        "from IPython.display import Image, display\n",
        "\n",
        "try:\n",
        "    display(Image(graph.get_graph().draw_mermaid_png()))\n",
        "except Exception:\n",
        "    # This requires some extra dependencies and is optional\n",
        "    pass"
      ],
      "metadata": {
        "colab": {
          "base_uri": "https://localhost:8080/",
          "height": 266
        },
        "id": "52chLz_STmno",
        "outputId": "df55530d-3a81-4516-d907-a68fddb3b74a"
      },
      "execution_count": 214,
      "outputs": [
        {
          "output_type": "display_data",
          "data": {
            "image/png": "[encoded data removed]",
            "text/plain": [
              "<IPython.core.display.Image object>"
            ]
          },
          "metadata": {}
        }
      ]
    },
    {
      "cell_type": "code",
      "source": [
        "graph.invoke({\"messages\":\"Virat Kohli DOB?\"})"
      ],
      "metadata": {
        "colab": {
          "base_uri": "https://localhost:8080/"
        },
        "id": "RmlGuX3eTqrB",
        "outputId": "e2e30de7-b167-4422-b01b-7ad306f12508"
      },
      "execution_count": 215,
      "outputs": [
        {
          "output_type": "execute_result",
          "data": {
            "text/plain": [
              "{'messages': [HumanMessage(content='Virat Kohli DOB?', additional_kwargs={}, response_metadata={}, id='deecfada-d0ea-45b4-9cf8-6657e6d0433e'),\n",
              "  AIMessage(content='', additional_kwargs={'tool_calls': [{'id': 'call_6gm3', 'function': {'arguments': '{\"query\":\"Virat Kohli DOB\"}', 'name': 'duckduckgo_results_json'}, 'type': 'function'}]}, response_metadata={'token_usage': {'completion_tokens': 51, 'prompt_tokens': 940, 'total_tokens': 991, 'completion_time': 0.150097861, 'prompt_time': 0.058066242, 'queue_time': 0.030250317000000006, 'total_time': 0.208164103}, 'model_name': 'llama3-70b-8192', 'system_fingerprint': 'fp_753a4aecf6', 'finish_reason': 'tool_calls', 'logprobs': None}, id='run-029b4c8a-297a-49c6-94a5-241c1ec68269-0', tool_calls=[{'name': 'duckduckgo_results_json', 'args': {'query': 'Virat Kohli DOB'}, 'id': 'call_6gm3', 'type': 'tool_call'}], usage_metadata={'input_tokens': 940, 'output_tokens': 51, 'total_tokens': 991}),\n",
              "  ToolMessage(content=\"snippet: Learn about Virat Kohli, one of the greatest batsmen in cricket history and a former captain of the Indian national team. Find out his date of birth, achievements, awards, and more., title: Virat Kohli | Life, Career, Cricket, Awards, & Facts | Britannica, link: https://www.britannica.com/biography/Virat-Kohli, snippet: Prem and Saroj Kohli welcomed Virat Kohli into the world on November 5, 1988, in Delhi, India. His mother is a stay-at-home mom, while his father practiced criminal law. Raised in Uttam Nagar, Delhi, he went to Saviour Convent and Vishal Bharti Public School., title: Virat Kohli (Indian Cricketer) Biography - The Best Biography, link: https://thebestbiography.com/virat-kohli-biography/, snippet: Virat Kohli Biography: Virat's cricketing journey began in the summer of 1998. Virat and his brother Vikas were ferried by their father Prem Kohli to a cricket camp in west Delhi. It was a typical hot summer day and little did Rajkumar Sharma, coach of the West Delhi Cricket Academy, know that over 250 kids would brave this extreme weather., title: Virat Kohli Biography - Age | Stats | Centuries | Record - Times of Sports, link: https://www.timesofsports.com/biography/virat-kohli/, snippet: Virat Kohli: Age 34 years. DOB- Nov 5, 1988. Height-175 cm, Wife- Anushka Sharma, Daughter- Vamika Kohli, IPL- RCB, Checkout stats & details.., title: Virat Kohli Biography | Age | Stats | Centuries | Family - KreedOn, link: https://www.kreedon.com/virat-kohli-biography-wiki\", name='duckduckgo_results_json', id='a8779e9e-d8d4-4676-bfba-469fa1cd7b6b', tool_call_id='call_6gm3', artifact=[{'snippet': 'Learn about Virat Kohli, one of the greatest batsmen in cricket history and a former captain of the Indian national team. Find out his date of birth, achievements, awards, and more.', 'title': 'Virat Kohli | Life, Career, Cricket, Awards, & Facts | Britannica', 'link': 'https://www.britannica.com/biography/Virat-Kohli'}, {'snippet': 'Prem and Saroj Kohli welcomed Virat Kohli into the world on November 5, 1988, in Delhi, India. His mother is a stay-at-home mom, while his father practiced criminal law. Raised in Uttam Nagar, Delhi, he went to Saviour Convent and Vishal Bharti Public School.', 'title': 'Virat Kohli (Indian Cricketer) Biography - The Best Biography', 'link': 'https://thebestbiography.com/virat-kohli-biography/'}, {'snippet': \"Virat Kohli Biography: Virat's cricketing journey began in the summer of 1998. Virat and his brother Vikas were ferried by their father Prem Kohli to a cricket camp in west Delhi. It was a typical hot summer day and little did Rajkumar Sharma, coach of the West Delhi Cricket Academy, know that over 250 kids would brave this extreme weather.\", 'title': 'Virat Kohli Biography - Age | Stats | Centuries | Record - Times of Sports', 'link': 'https://www.timesofsports.com/biography/virat-kohli/'}, {'snippet': 'Virat Kohli: Age 34 years. DOB- Nov 5, 1988. Height-175 cm, Wife- Anushka Sharma, Daughter- Vamika Kohli, IPL- RCB, Checkout stats & details..', 'title': 'Virat Kohli Biography | Age | Stats | Centuries | Family - KreedOn', 'link': 'https://www.kreedon.com/virat-kohli-biography-wiki'}]),\n",
              "  AIMessage(content=\"Virat Kohli's date of birth is November 5, 1988.\", additional_kwargs={}, response_metadata={'token_usage': {'completion_tokens': 18, 'prompt_tokens': 1418, 'total_tokens': 1436, 'completion_time': 0.054223483, 'prompt_time': 0.075552879, 'queue_time': 0.017917829999999996, 'total_time': 0.129776362}, 'model_name': 'llama3-70b-8192', 'system_fingerprint': 'fp_2f30b0b571', 'finish_reason': 'stop', 'logprobs': None}, id='run-d2dd0cdc-e171-4ffb-b995-8762d809e4e2-0', usage_metadata={'input_tokens': 1418, 'output_tokens': 18, 'total_tokens': 1436})]}"
            ]
          },
          "metadata": {},
          "execution_count": 215
        }
      ]
    },
    {
      "cell_type": "markdown",
      "source": [
        "### Function wise"
      ],
      "metadata": {
        "id": "_O43s-b6WvAD"
      }
    },
    {
      "cell_type": "code",
      "source": [
        "from langchain_community.tools import DuckDuckGoSearchResults\n",
        "tools = DuckDuckGoSearchResults()"
      ],
      "metadata": {
        "id": "6AENkSteV8dd"
      },
      "execution_count": 226,
      "outputs": []
    },
    {
      "cell_type": "code",
      "source": [
        "def llm_response(state: State):\n",
        "  llm = ChatGroq(model=\"llama3-70b-8192\", api_key=api_key)\n",
        "\n",
        "  # Modification: tell the LLM which tools it can call\n",
        "  llm_with_tools = llm.bind_tools([tools])\n",
        "\n",
        "  return {\"messages\": [llm_with_tools.invoke(state[\"messages\"])]}"
      ],
      "metadata": {
        "id": "KvEbXQU-TxZ_"
      },
      "execution_count": 227,
      "outputs": []
    },
    {
      "cell_type": "code",
      "source": [
        "class State(TypedDict):\n",
        "    messages: Annotated[list, add_messages]\n",
        "\n",
        "graph_builder = StateGraph(State)"
      ],
      "metadata": {
        "id": "wvI__vJKWKfF"
      },
      "execution_count": 228,
      "outputs": []
    },
    {
      "cell_type": "code",
      "source": [
        "graph_builder.add_node(\"llm\", llm_response)"
      ],
      "metadata": {
        "colab": {
          "base_uri": "https://localhost:8080/"
        },
        "id": "_aULXrQUWPq6",
        "outputId": "b111ddac-df67-4152-84c3-012df8635c62"
      },
      "execution_count": 229,
      "outputs": [
        {
          "output_type": "execute_result",
          "data": {
            "text/plain": [
              "<langgraph.graph.state.StateGraph at 0x7ea9971fd090>"
            ]
          },
          "metadata": {},
          "execution_count": 229
        }
      ]
    },
    {
      "cell_type": "code",
      "source": [
        "tool_node = ToolNode(tools=[tools])\n",
        "graph_builder.add_node(\"tools\", tool_node)\n",
        "\n",
        "graph_builder.add_conditional_edges(\n",
        "    \"llm\",\n",
        "    tools_condition,\n",
        ")\n",
        "# Any time a tool is called, we return to the chatbot to decide the next step\n",
        "graph_builder.add_edge(\"tools\", \"llm\")\n",
        "graph_builder.set_entry_point(\"llm\")\n",
        "graph = graph_builder.compile()"
      ],
      "metadata": {
        "id": "5Z7vVntRWruw"
      },
      "execution_count": 230,
      "outputs": []
    },
    {
      "cell_type": "code",
      "source": [
        "from IPython.display import Image, display\n",
        "\n",
        "try:\n",
        "    display(Image(graph.get_graph().draw_mermaid_png()))\n",
        "except Exception:\n",
        "    # This requires some extra dependencies and is optional\n",
        "    pass"
      ],
      "metadata": {
        "colab": {
          "base_uri": "https://localhost:8080/",
          "height": 266
        },
        "id": "gwad9eXVXNZz",
        "outputId": "a7e4782c-82c7-43ce-ddae-cf7fd91a8398"
      },
      "execution_count": 231,
      "outputs": [
        {
          "output_type": "display_data",
          "data": {
            "image/png": "[encoded data removed]",
            "text/plain": [
              "<IPython.core.display.Image object>"
            ]
          },
          "metadata": {}
        }
      ]
    },
    {
      "cell_type": "code",
      "source": [
        "res = graph.invoke({\"messages\":\"Imran Khan DOB?\"})\n",
        "res"
      ],
      "metadata": {
        "colab": {
          "base_uri": "https://localhost:8080/"
        },
        "id": "Piq9hHw4XOir",
        "outputId": "680e5de6-f038-481d-c9ca-33031382a069"
      },
      "execution_count": 248,
      "outputs": [
        {
          "output_type": "execute_result",
          "data": {
            "text/plain": [
              "{'messages': [HumanMessage(content='Imran Khan DOB?', additional_kwargs={}, response_metadata={}, id='1f77bde6-935c-492a-af22-6b485f63b0bf'),\n",
              "  AIMessage(content='', additional_kwargs={'tool_calls': [{'id': 'call_3ys9', 'function': {'arguments': '{\"query\":\"Imran Khan date of birth\"}', 'name': 'duckduckgo_results_json'}, 'type': 'function'}]}, response_metadata={'token_usage': {'completion_tokens': 51, 'prompt_tokens': 939, 'total_tokens': 990, 'completion_time': 0.146057819, 'prompt_time': 0.046871982, 'queue_time': 0.016689886999999994, 'total_time': 0.192929801}, 'model_name': 'llama3-70b-8192', 'system_fingerprint': 'fp_2f30b0b571', 'finish_reason': 'tool_calls', 'logprobs': None}, id='run-6b8c999a-e42b-4d18-b3df-e9686e58db74-0', tool_calls=[{'name': 'duckduckgo_results_json', 'args': {'query': 'Imran Khan date of birth'}, 'id': 'call_3ys9', 'type': 'tool_call'}], usage_metadata={'input_tokens': 939, 'output_tokens': 51, 'total_tokens': 990}),\n",
              "  ToolMessage(content='snippet: Imran Khan was born on October 5, 1952, in Lahore, Pakistan. He was a cricket legend who led Pakistan to its first World Cup victory in 1992 and later became a controversial politician and prime minister., title: Imran Khan | Pakistan, Biography, Cricketer, Prime Minister, & PTI ..., link: https://www.britannica.com/biography/Imran-Khan, snippet: Imran Khan: Birth and Family. Imran Ahmed Khan Niazi was born to a Pashtun family of Mianwali in Lahore on October 5, 1952, to Ikramullah Khan Niazi and Shaukat Khanum. Imran Khan was the only son of the couple and has four sisters. Imran Khan belongs to the Pashtun ethnicity and Niazi tribe. Haibat Khan Niazi, one of the ancestors of Imran ..., title: Imran Khan (Former Prime Minister of Pakistan) Biography, link: https://thebestbiography.com/imran-khan-biography/, snippet: Imran Ahmed Khan Niazi, born on October 5, 1952, in Lahore, Pakistan, is a distinguished figure known for his multifaceted roles as a cricketer, philanthropist, and politician. ... Imran Ahmed Khan Niazi Date of Birth: October 5, 1952 Place of Birth: Lahore, Punjab, Pakistan Nationality: Pakistani Education: Studied Philosophy, Politics, and ..., title: Imran Khan Age, Biography, Net Worth, Family, Career ... - Mabumbe, link: https://mabumbe.com/people/imran-khan-age-biography-net-worth-family-career-highlights-more/, snippet: What is the date of birth of celebrity Imran Khan ? Imran Khan, the Pakistani celebrity, was born on October 5, 1952. Learn more about the personality of Imran Khan What is the origin of imran khan personality Imran Khan is a Pakistani politician, former cricketer and philanthropist. Born on October 5, 1952 in Lahore, […], title: Career, biography and origin of imran khan - Buzz, link: https://www.naijanews.com/buzz/people/career-biography-and-origin-of-personality-imran-khan/', name='duckduckgo_results_json', id='2cf8edc5-f7ea-4c10-9b47-047c91775a9a', tool_call_id='call_3ys9', artifact=[{'snippet': 'Imran Khan was born on October 5, 1952, in Lahore, Pakistan. He was a cricket legend who led Pakistan to its first World Cup victory in 1992 and later became a controversial politician and prime minister.', 'title': 'Imran Khan | Pakistan, Biography, Cricketer, Prime Minister, & PTI ...', 'link': 'https://www.britannica.com/biography/Imran-Khan'}, {'snippet': 'Imran Khan: Birth and Family. Imran Ahmed Khan Niazi was born to a Pashtun family of Mianwali in Lahore on October 5, 1952, to Ikramullah Khan Niazi and Shaukat Khanum. Imran Khan was the only son of the couple and has four sisters. Imran Khan belongs to the Pashtun ethnicity and Niazi tribe. Haibat Khan Niazi, one of the ancestors of Imran ...', 'title': 'Imran Khan (Former Prime Minister of Pakistan) Biography', 'link': 'https://thebestbiography.com/imran-khan-biography/'}, {'snippet': 'Imran Ahmed Khan Niazi, born on October 5, 1952, in Lahore, Pakistan, is a distinguished figure known for his multifaceted roles as a cricketer, philanthropist, and politician. ... Imran Ahmed Khan Niazi Date of Birth: October 5, 1952 Place of Birth: Lahore, Punjab, Pakistan Nationality: Pakistani Education: Studied Philosophy, Politics, and ...', 'title': 'Imran Khan Age, Biography, Net Worth, Family, Career ... - Mabumbe', 'link': 'https://mabumbe.com/people/imran-khan-age-biography-net-worth-family-career-highlights-more/'}, {'snippet': 'What is the date of birth of celebrity Imran Khan ? Imran Khan, the Pakistani celebrity, was born on October 5, 1952. Learn more about the personality of Imran Khan What is the origin of imran khan personality Imran Khan is a Pakistani politician, former cricketer and philanthropist. Born on October 5, 1952 in Lahore, […]', 'title': 'Career, biography and origin of imran khan - Buzz', 'link': 'https://www.naijanews.com/buzz/people/career-biography-and-origin-of-personality-imran-khan/'}]),\n",
              "  AIMessage(content='Imran Khan was born on October 5, 1952.', additional_kwargs={}, response_metadata={'token_usage': {'completion_tokens': 15, 'prompt_tokens': 1502, 'total_tokens': 1517, 'completion_time': 0.046996141, 'prompt_time': 0.089282384, 'queue_time': 0.14919371999999997, 'total_time': 0.136278525}, 'model_name': 'llama3-70b-8192', 'system_fingerprint': 'fp_2f30b0b571', 'finish_reason': 'stop', 'logprobs': None}, id='run-6b1b5996-7d19-4493-b0bc-c9cddf66bfd0-0', usage_metadata={'input_tokens': 1502, 'output_tokens': 15, 'total_tokens': 1517})]}"
            ]
          },
          "metadata": {},
          "execution_count": 248
        }
      ]
    },
    {
      "cell_type": "code",
      "source": [
        "def get_final_answer(res):\n",
        "  return res['messages'][-1].content"
      ],
      "metadata": {
        "id": "dTlS8DXhYIRc"
      },
      "execution_count": 249,
      "outputs": []
    },
    {
      "cell_type": "code",
      "source": [
        "get_final_answer(res)"
      ],
      "metadata": {
        "colab": {
          "base_uri": "https://localhost:8080/",
          "height": 36
        },
        "id": "rQQgOfpMXz-v",
        "outputId": "1c7dc336-1a7c-4915-c31f-6a2d05c46454"
      },
      "execution_count": 250,
      "outputs": [
        {
          "output_type": "execute_result",
          "data": {
            "text/plain": [
              "'Imran Khan was born on October 5, 1952.'"
            ],
            "application/vnd.google.colaboratory.intrinsic+json": {
              "type": "string"
            }
          },
          "metadata": {},
          "execution_count": 250
        }
      ]
    }
  ]
}